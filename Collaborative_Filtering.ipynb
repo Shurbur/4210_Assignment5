{
  "nbformat": 4,
  "nbformat_minor": 0,
  "metadata": {
    "colab": {
      "name": "Collaborative Filtering.ipynb",
      "provenance": [],
      "mount_file_id": "1xh_2Y5dJm7BOFzcmpJWk_9sJC78bmqP8",
      "authorship_tag": "ABX9TyN5ZuA0USRp9Fu0PZ13yTl1",
      "include_colab_link": true
    },
    "kernelspec": {
      "name": "python3",
      "display_name": "Python 3"
    },
    "language_info": {
      "name": "python"
    }
  },
  "cells": [
    {
      "cell_type": "markdown",
      "metadata": {
        "id": "view-in-github",
        "colab_type": "text"
      },
      "source": [
        "<a href=\"https://colab.research.google.com/github/Shurbur/4210_Assignment5/blob/main/Collaborative_Filtering.ipynb\" target=\"_parent\"><img src=\"https://colab.research.google.com/assets/colab-badge.svg\" alt=\"Open In Colab\"/></a>"
      ]
    },
    {
      "cell_type": "code",
      "metadata": {
        "id": "McJ1s8NMrMLS"
      },
      "source": [
        "import numpy as np\n",
        "import pandas as pd\n",
        "from sklearn.metrics.pairwise import cosine_similarity\n",
        "\n",
        "df = pd.read_csv('/content/drive/MyDrive/Project 5_4210/collaborative/trip_advisor_data.csv', sep=',', header=0) #reading the data by using the Pandas library ()\n",
        "user100 = df.iloc[[-1]]   # get last row\n",
        "del user100['User ID']\n",
        "del user100['galleries']\n",
        "del user100['restaurants']\n",
        "\n",
        "simil = []\n",
        "use_100 = 0\n",
        "\n"
      ],
      "execution_count": null,
      "outputs": []
    },
    {
      "cell_type": "code",
      "metadata": {
        "id": "sWkaU8tStXr5"
      },
      "source": [
        "#iterate over the other 99 users to calculate their similarity with the active user (user 100) according to their category ratings (user-item approach)\n",
        "for i, row in df.iterrows():\n",
        "  if i == len(df)-1:\n",
        "    break   # avoid relating User 100 to themself\n",
        "  vec1 = np.array([[row['dance clubs'], row['juice bars'], row['museums'], row['resorts'], row['parks/picnic spots'], row['beaches'], row['theaters'], row['religious institutions']]])\n",
        "  vec2 = np.array([user100['dance clubs'], user100['juice bars'], user100['museums'], user100['resorts'], user100['parks/picnic spots'], user100['beaches'], user100['theaters'], user100['religious institutions']]).reshape(1,8)\n",
        "  \n",
        "  if i == 0:  # calculate r bar for User 100 just once\n",
        "    use_100 = sum(vec2[0])/len(vec2[0])\n",
        "\n",
        "  cs = cosine_similarity(vec1, vec2)\n",
        "  simil.append((i, cs[0][0]))\n",
        "\n"
      ],
      "execution_count": null,
      "outputs": []
    },
    {
      "cell_type": "code",
      "metadata": {
        "colab": {
          "base_uri": "https://localhost:8080/"
        },
        "id": "xe4DjzWXta14",
        "outputId": "0bbe2f11-2a04-4886-adae-3dc96d399515"
      },
      "source": [
        "#find the top 10 similar users to the active user according to the similarity calculated before\n",
        "top_ten = sorted(simil, key=lambda t: t[1], reverse=True)[:10]\n",
        "print(\"(User ID, Similarity):\")\n",
        "print(top_ten)\n",
        "\n",
        "#Compute a prediction from a weighted combination of selected neighbors’ for both categories evaluated (galleries and restaurants)\n",
        "gal_weight = []\n",
        "res_weight = []\n",
        "simil_sum = 0\n",
        "\n",
        "for tup in top_ten:\n",
        "  weight_g = float(df.at[tup[0], 'galleries']) * tup[1]\n",
        "  weight_r = float(df.at[tup[0], 'restaurants']) * tup[1]\n",
        "  simil_sum += tup[1]\n",
        "  gal_weight.append(weight_g)\n",
        "  res_weight.append(weight_r)\n",
        "\n",
        "print(\"Galleries prediction: \", str(round((sum(gal_weight)/simil_sum)+use_100, 2)))\n",
        "print(\"Restaurants prediction: \", str(round((sum(res_weight)/simil_sum)+use_100, 2)))"
      ],
      "execution_count": null,
      "outputs": [
        {
          "output_type": "stream",
          "text": [
            "(User ID, Similarity):\n",
            "[(9, 0.9901640070719941), (52, 0.9805040409620629), (72, 0.9748693183973278), (34, 0.9740648812136317), (23, 0.9723910560785707), (46, 0.9713923990203406), (33, 0.96827239616198), (64, 0.9637526171681846), (10, 0.9630833816515028), (24, 0.9628974464659079)]\n",
            "Galleries prediction:  3.19\n",
            "Restaurants prediction:  2.71\n"
          ],
          "name": "stdout"
        }
      ]
    }
  ]
}