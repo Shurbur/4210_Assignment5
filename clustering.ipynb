{
  "nbformat": 4,
  "nbformat_minor": 0,
  "metadata": {
    "colab": {
      "name": "clustering.ipynb",
      "provenance": [],
      "mount_file_id": "1u7ZhTzDMJNFkZAXDd-EMHclHvVgUMWYg",
      "authorship_tag": "ABX9TyPbTbE+htLk2uWtQgYCRjuq",
      "include_colab_link": true
    },
    "kernelspec": {
      "name": "python3",
      "display_name": "Python 3"
    },
    "language_info": {
      "name": "python"
    }
  },
  "cells": [
    {
      "cell_type": "markdown",
      "metadata": {
        "id": "view-in-github",
        "colab_type": "text"
      },
      "source": [
        "<a href=\"https://colab.research.google.com/github/Shurbur/4210_Assignment5/blob/main/clustering.ipynb\" target=\"_parent\"><img src=\"https://colab.research.google.com/assets/colab-badge.svg\" alt=\"Open In Colab\"/></a>"
      ]
    },
    {
      "cell_type": "code",
      "metadata": {
        "id": "M0fUtYpdoJ_n"
      },
      "source": [
        "from sklearn.cluster import KMeans\n",
        "from sklearn.cluster import AgglomerativeClustering\n",
        "import numpy as np\n",
        "import pandas as pd\n",
        "import matplotlib.pyplot as plt\n",
        "from sklearn.metrics import silhouette_score\n",
        "from sklearn import metrics\n",
        "\n",
        "X_training = pd.read_csv('/content/drive/MyDrive/Project 5_4210/clustering/training_data.csv', sep=',', header=None) #reading the data by using Pandas library\n",
        "\n",
        "#assign your training data to X_training feature matrix\n",
        "\n",
        "sil_score = []\n",
        "max_sil = -999999\n",
        "max_k = None\n",
        "\n"
      ],
      "execution_count": null,
      "outputs": []
    },
    {
      "cell_type": "code",
      "metadata": {
        "id": "qBCt28FMreht"
      },
      "source": [
        "#run kmeans testing different k values from 2 until 20 clusters\n",
        "     #Use:  kmeans = KMeans(n_clusters=k, random_state=0)\n",
        "     #      kmeans.fit(X_training)\n",
        "for k in range(2, 21):\n",
        "  kmeans = KMeans(n_clusters=k, random_state=0)\n",
        "  kmeans.fit(X_training)\n",
        "\n",
        "  #for each k, calculate the silhouette_coefficient by using: silhouette_score(X_training, kmeans.labels_)\n",
        "  #find which k maximizes the silhouette_coefficient\n",
        "  temp_sil = silhouette_score(X_training, kmeans.labels_)\n",
        "  sil_score.append(temp_sil)\n",
        "  if temp_sil > max_sil:\n",
        "    max_sil = temp_sil\n",
        "    max_k = k \n",
        "\n"
      ],
      "execution_count": null,
      "outputs": []
    },
    {
      "cell_type": "code",
      "metadata": {
        "colab": {
          "base_uri": "https://localhost:8080/",
          "height": 316
        },
        "id": "kenM_-s-rhhW",
        "outputId": "617f87f6-67d6-4117-b3d9-7f8408506b72"
      },
      "source": [
        "#plot the value of the silhouette_coefficient for each k value of kmeans so that we can see the best k\n",
        "plt.plot([x for x in range(2, 21)], sil_score)\n",
        "print(\"Max k, silhouette: \", max_k, \",\", max_sil)\n",
        "\n",
        "#reading the validation data (clusters) by using Pandas library\n",
        "X_testing = pd.read_csv('/content/drive/MyDrive/Project 5_4210/clustering/testing_data.csv', header=None) #reading the data by using Pandas library\n",
        "\n",
        "#assign your data labels to vector labels (you might need to reshape the row vector to a column vector)\n",
        "# do this: np.array(df.values).reshape(1,<number of samples>)[0]\n",
        "labels = np.array(X_testing.values).reshape(1,-1)[0]\n",
        "\n",
        "#Calculate and print the Homogeneity of this kmeans clustering\n",
        "print(\"K-Means Homogeneity Score = \" + metrics.homogeneity_score(labels, kmeans.labels_).__str__())\n",
        "\n",
        "#rung agglomerative clustering now by using the best value o k calculated before by kmeans\n",
        "#Do it:\n",
        "agg = AgglomerativeClustering(n_clusters=max_k, linkage='ward')\n",
        "agg.fit(X_training)\n",
        "\n",
        "#Calculate and print the Homogeneity of this agglomerative clustering\n",
        "print(\"Agglomerative Clustering Homogeneity Score = \" + metrics.homogeneity_score(labels, agg.labels_).__str__())"
      ],
      "execution_count": null,
      "outputs": [
        {
          "output_type": "stream",
          "text": [
            "Max k, silhouette:  10 , 0.191477028192782\n",
            "K-Means Homogeneity Score = 0.872120356049812\n",
            "Agglomerative Clustering Homogeneity Score = 0.8031062316259906\n"
          ],
          "name": "stdout"
        },
        {
          "output_type": "display_data",
          "data": {
            "image/png": "[encoded data removed]",
            "text/plain": [
              "<Figure size 432x288 with 1 Axes>"
            ]
          },
          "metadata": {
            "tags": [],
            "needs_background": "light"
          }
        }
      ]
    }
  ]
}